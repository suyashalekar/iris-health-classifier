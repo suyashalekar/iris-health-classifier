{
 "cells": [
  {
   "cell_type": "markdown",
   "id": "462be1f0",
   "metadata": {},
   "source": [
    "## Imporing"
   ]
  },
  {
   "cell_type": "code",
   "execution_count": 1,
   "id": "afe8d4c3",
   "metadata": {},
   "outputs": [],
   "source": [
    "import pandas as pd\n",
    "import os\n",
    "from sklearn.preprocessing import MultiLabelBinarizer\n",
    "import re\n",
    "from collections import Counter\n",
    "import re\n",
    "from rapidfuzz import process, fuzz\n",
    "\n"
   ]
  },
  {
   "cell_type": "markdown",
   "id": "c5ab0ed9",
   "metadata": {},
   "source": [
    "## Preprocessing"
   ]
  },
  {
   "cell_type": "code",
   "execution_count": 2,
   "id": "24056516",
   "metadata": {},
   "outputs": [],
   "source": [
    "\n",
    "# Load the Excel file\n",
    "file_path = '20 obs - 13.04.25/iridology-v20.xlsx'  # Update with your actual path\n",
    "df = pd.read_excel(file_path)"
   ]
  },
  {
   "cell_type": "code",
   "execution_count": 3,
   "id": "272103e1",
   "metadata": {},
   "outputs": [
    {
     "name": "stdout",
     "output_type": "stream",
     "text": [
      "📊 Basic Info:\n",
      "<class 'pandas.core.frame.DataFrame'>\n",
      "RangeIndex: 20 entries, 0 to 19\n",
      "Data columns (total 6 columns):\n",
      " #   Column                                     Non-Null Count  Dtype \n",
      "---  ------                                     --------------  ----- \n",
      " 0   Image ID                                   20 non-null     int64 \n",
      " 1   Side                                       20 non-null     object\n",
      " 2   Main Category                              20 non-null     object\n",
      " 3   Sub-Category                               20 non-null     object\n",
      " 4   Analysis(*)                                20 non-null     object\n",
      " 5   (*) Overall conclusion and recommendation  20 non-null     object\n",
      "dtypes: int64(1), object(5)\n",
      "memory usage: 1.1+ KB\n",
      "None\n"
     ]
    }
   ],
   "source": [
    "\n",
    "# Display basic information\n",
    "print(\"📊 Basic Info:\")\n",
    "print(df.info())\n"
   ]
  },
  {
   "cell_type": "code",
   "execution_count": 4,
   "id": "72d46a0a",
   "metadata": {},
   "outputs": [
    {
     "name": "stdout",
     "output_type": "stream",
     "text": [
      "\n",
      "🔍 First 5 rows:\n"
     ]
    },
    {
     "data": {
      "text/html": [
       "<div>\n",
       "<style scoped>\n",
       "    .dataframe tbody tr th:only-of-type {\n",
       "        vertical-align: middle;\n",
       "    }\n",
       "\n",
       "    .dataframe tbody tr th {\n",
       "        vertical-align: top;\n",
       "    }\n",
       "\n",
       "    .dataframe thead th {\n",
       "        text-align: right;\n",
       "    }\n",
       "</style>\n",
       "<table border=\"1\" class=\"dataframe\">\n",
       "  <thead>\n",
       "    <tr style=\"text-align: right;\">\n",
       "      <th></th>\n",
       "      <th>Image ID</th>\n",
       "      <th>Side</th>\n",
       "      <th>Main Category</th>\n",
       "      <th>Sub-Category</th>\n",
       "      <th>Analysis(*)</th>\n",
       "      <th>(*) Overall conclusion and recommendation</th>\n",
       "    </tr>\n",
       "  </thead>\n",
       "  <tbody>\n",
       "    <tr>\n",
       "      <th>0</th>\n",
       "      <td>1</td>\n",
       "      <td>Right</td>\n",
       "      <td>Cardiovascular system\\nNervous system\\nEndocri...</td>\n",
       "      <td>Arteriosclerosis\\nAnxiety\\nPancreas weakness</td>\n",
       "      <td>Presence of a stress ring indicates anxiety. P...</td>\n",
       "      <td>Support nerves with magnesium and calming herb...</td>\n",
       "    </tr>\n",
       "    <tr>\n",
       "      <th>1</th>\n",
       "      <td>2</td>\n",
       "      <td>Left</td>\n",
       "      <td>Nervous system\\nCirculatory system</td>\n",
       "      <td>Emotional stress \\nAnxiety\\nVein and lymph con...</td>\n",
       "      <td>The presence of radial furrows and a stress ri...</td>\n",
       "      <td>Reduce stress through mindfulness, exercise, a...</td>\n",
       "    </tr>\n",
       "    <tr>\n",
       "      <th>2</th>\n",
       "      <td>3</td>\n",
       "      <td>Right</td>\n",
       "      <td>Endocrine system\\nNervous system\\nRespiratory ...</td>\n",
       "      <td>Pancreas weakness\\nInsulin resistance\\nNeurolo...</td>\n",
       "      <td>The body displays hormonal imbalances, particu...</td>\n",
       "      <td>Balance blood sugar with diet, herbs (cinnamon...</td>\n",
       "    </tr>\n",
       "    <tr>\n",
       "      <th>3</th>\n",
       "      <td>4</td>\n",
       "      <td>Right</td>\n",
       "      <td>Endocrine System\\nCardihjovascular system\\nDig...</td>\n",
       "      <td>Adrenal exhustion\\nBlood Circulation problem  ...</td>\n",
       "      <td>A cholesterol ring suggests long-term cardiova...</td>\n",
       "      <td>Take omega-3s for heart health, vitamin C and ...</td>\n",
       "    </tr>\n",
       "    <tr>\n",
       "      <th>4</th>\n",
       "      <td>5</td>\n",
       "      <td>Right</td>\n",
       "      <td>Circulatory System\\nEndocrine System\\nNervous ...</td>\n",
       "      <td>Heart\\nOvaries / Hormonal Balance Vitality\\n</td>\n",
       "      <td>Signs of stress on the heart, possibly from em...</td>\n",
       "      <td>Calm the nervous system with magnesium and dee...</td>\n",
       "    </tr>\n",
       "  </tbody>\n",
       "</table>\n",
       "</div>"
      ],
      "text/plain": [
       "   Image ID   Side                                      Main Category  \\\n",
       "0         1  Right  Cardiovascular system\\nNervous system\\nEndocri...   \n",
       "1         2   Left                 Nervous system\\nCirculatory system   \n",
       "2         3  Right  Endocrine system\\nNervous system\\nRespiratory ...   \n",
       "3         4  Right  Endocrine System\\nCardihjovascular system\\nDig...   \n",
       "4         5  Right  Circulatory System\\nEndocrine System\\nNervous ...   \n",
       "\n",
       "                                        Sub-Category  \\\n",
       "0       Arteriosclerosis\\nAnxiety\\nPancreas weakness   \n",
       "1  Emotional stress \\nAnxiety\\nVein and lymph con...   \n",
       "2  Pancreas weakness\\nInsulin resistance\\nNeurolo...   \n",
       "3  Adrenal exhustion\\nBlood Circulation problem  ...   \n",
       "4       Heart\\nOvaries / Hormonal Balance Vitality\\n   \n",
       "\n",
       "                                         Analysis(*)  \\\n",
       "0  Presence of a stress ring indicates anxiety. P...   \n",
       "1  The presence of radial furrows and a stress ri...   \n",
       "2  The body displays hormonal imbalances, particu...   \n",
       "3  A cholesterol ring suggests long-term cardiova...   \n",
       "4  Signs of stress on the heart, possibly from em...   \n",
       "\n",
       "           (*) Overall conclusion and recommendation  \n",
       "0  Support nerves with magnesium and calming herb...  \n",
       "1  Reduce stress through mindfulness, exercise, a...  \n",
       "2  Balance blood sugar with diet, herbs (cinnamon...  \n",
       "3  Take omega-3s for heart health, vitamin C and ...  \n",
       "4  Calm the nervous system with magnesium and dee...  "
      ]
     },
     "execution_count": 4,
     "metadata": {},
     "output_type": "execute_result"
    }
   ],
   "source": [
    "\n",
    "# Display first few rows\n",
    "print(\"\\n🔍 First 5 rows:\")\n",
    "df.head()\n"
   ]
  },
  {
   "cell_type": "code",
   "execution_count": 5,
   "id": "86a11b72",
   "metadata": {},
   "outputs": [
    {
     "name": "stdout",
     "output_type": "stream",
     "text": [
      "\n",
      "❓ Missing values:\n",
      "Image ID                                     0\n",
      "Side                                         0\n",
      "Main Category                                0\n",
      "Sub-Category                                 0\n",
      "Analysis(*)                                  0\n",
      "(*) Overall conclusion and recommendation    0\n",
      "dtype: int64\n"
     ]
    }
   ],
   "source": [
    "\n",
    "# Check for missing values\n",
    "print(\"\\n❓ Missing values:\")\n",
    "print(df.isnull().sum())\n"
   ]
  },
  {
   "cell_type": "code",
   "execution_count": 6,
   "id": "01429a39",
   "metadata": {},
   "outputs": [
    {
     "name": "stdout",
     "output_type": "stream",
     "text": [
      "\n",
      "🔢 Unique values per column:\n",
      "Image ID: 20\n",
      "Side: 2\n",
      "Main Category: 20\n",
      "Sub-Category: 20\n",
      "Analysis(*): 20\n",
      "(*) Overall conclusion and recommendation: 20\n"
     ]
    }
   ],
   "source": [
    "\n",
    "# Check for unique values per column\n",
    "print(\"\\n🔢 Unique values per column:\")\n",
    "for col in df.columns:\n",
    "    print(f\"{col}: {df[col].nunique()}\")"
   ]
  },
  {
   "cell_type": "code",
   "execution_count": 7,
   "id": "9c9e6822",
   "metadata": {},
   "outputs": [
    {
     "name": "stdout",
     "output_type": "stream",
     "text": [
      "📋 Original Columns:\n",
      "Index(['Image ID', 'Side', 'Main Category', 'Sub-Category', 'Analysis(*)',\n",
      "       '(*) Overall conclusion and recommendation'],\n",
      "      dtype='object')\n",
      "\n",
      "✅ Updated Columns:\n",
      "Index(['image_id', 'side', 'main_category', 'sub_category', 'analysis',\n",
      "       'overall_recommendation'],\n",
      "      dtype='object')\n"
     ]
    }
   ],
   "source": [
    "# Example: Current column names\n",
    "print(\"📋 Original Columns:\")\n",
    "print(df.columns)\n",
    "\n",
    "# Rename columns using a dictionary: {'old_name': 'new_name'}\n",
    "df.rename(columns={\n",
    "    'Image ID': 'image_id',\n",
    "    'Side': 'side',\n",
    "    'Main Category' : 'main_category',\n",
    "    'Sub-Category' : 'sub_category',\n",
    "    'Analysis(*)' : 'analysis',\n",
    "    '(*) Overall conclusion and recommendation' : 'overall_recommendation'\n",
    "\n",
    "    # Add more mappings as needed\n",
    "}, inplace=True)\n",
    "\n",
    "# Show updated column names\n",
    "print(\"\\n✅ Updated Columns:\")\n",
    "print(df.columns)\n"
   ]
  },
  {
   "cell_type": "code",
   "execution_count": 8,
   "id": "b987b5a6",
   "metadata": {},
   "outputs": [],
   "source": [
    "# Folder where your images are stored\n",
    "image_folder = '20 obs - 13.04.25/pictures'  # Update this pat"
   ]
  },
  {
   "cell_type": "code",
   "execution_count": 9,
   "id": "76959797",
   "metadata": {},
   "outputs": [
    {
     "data": {
      "text/plain": [
       "['8',\n",
       " '9',\n",
       " '14',\n",
       " '15',\n",
       " '17',\n",
       " '16',\n",
       " '12',\n",
       " '13',\n",
       " '11',\n",
       " '10',\n",
       " '20',\n",
       " '18',\n",
       " '19',\n",
       " '4',\n",
       " '5',\n",
       " '7',\n",
       " '6',\n",
       " '2',\n",
       " '3',\n",
       " '1']"
      ]
     },
     "execution_count": 9,
     "metadata": {},
     "output_type": "execute_result"
    }
   ],
   "source": [
    "\n",
    "# List of image filenames (just the numbers without '.jpg')\n",
    "image_files = [f.split('.')[0] for f in os.listdir(image_folder) if f.endswith('.jpg')]\n",
    "\n",
    "image_files\n"
   ]
  },
  {
   "cell_type": "code",
   "execution_count": 10,
   "id": "c304be91",
   "metadata": {},
   "outputs": [
    {
     "data": {
      "text/plain": [
       "[1, 2, 3, 4, 5, 6, 7, 8, 9, 10, 11, 12, 13, 14, 15, 16, 17, 18, 19, 20]"
      ]
     },
     "execution_count": 10,
     "metadata": {},
     "output_type": "execute_result"
    }
   ],
   "source": [
    "image_files = sorted([int(f) for f in image_files])  # Convert to integers if needed\n",
    "image_files"
   ]
  },
  {
   "cell_type": "code",
   "execution_count": 11,
   "id": "b3deaed1",
   "metadata": {},
   "outputs": [
    {
     "name": "stdout",
     "output_type": "stream",
     "text": [
      "\n",
      "📂 Image Files Found:\n",
      "[1, 2, 3, 4, 5, 6, 7, 8, 9, 10, 11, 12, 13, 14, 15, 16, 17, 18, 19, 20]\n"
     ]
    }
   ],
   "source": [
    "# Check what column in the dataframe can match these image IDs\n",
    "print(\"\\n📂 Image Files Found:\")\n",
    "print(image_files)"
   ]
  },
  {
   "cell_type": "code",
   "execution_count": 12,
   "id": "08127428",
   "metadata": {},
   "outputs": [
    {
     "data": {
      "text/html": [
       "<div>\n",
       "<style scoped>\n",
       "    .dataframe tbody tr th:only-of-type {\n",
       "        vertical-align: middle;\n",
       "    }\n",
       "\n",
       "    .dataframe tbody tr th {\n",
       "        vertical-align: top;\n",
       "    }\n",
       "\n",
       "    .dataframe thead th {\n",
       "        text-align: right;\n",
       "    }\n",
       "</style>\n",
       "<table border=\"1\" class=\"dataframe\">\n",
       "  <thead>\n",
       "    <tr style=\"text-align: right;\">\n",
       "      <th></th>\n",
       "      <th>image_id</th>\n",
       "      <th>side</th>\n",
       "      <th>main_category</th>\n",
       "      <th>sub_category</th>\n",
       "      <th>analysis</th>\n",
       "      <th>overall_recommendation</th>\n",
       "    </tr>\n",
       "  </thead>\n",
       "  <tbody>\n",
       "    <tr>\n",
       "      <th>0</th>\n",
       "      <td>1</td>\n",
       "      <td>Right</td>\n",
       "      <td>Cardiovascular system\\nNervous system\\nEndocri...</td>\n",
       "      <td>Arteriosclerosis\\nAnxiety\\nPancreas weakness</td>\n",
       "      <td>Presence of a stress ring indicates anxiety. P...</td>\n",
       "      <td>Support nerves with magnesium and calming herb...</td>\n",
       "    </tr>\n",
       "    <tr>\n",
       "      <th>1</th>\n",
       "      <td>2</td>\n",
       "      <td>Left</td>\n",
       "      <td>Nervous system\\nCirculatory system</td>\n",
       "      <td>Emotional stress \\nAnxiety\\nVein and lymph con...</td>\n",
       "      <td>The presence of radial furrows and a stress ri...</td>\n",
       "      <td>Reduce stress through mindfulness, exercise, a...</td>\n",
       "    </tr>\n",
       "    <tr>\n",
       "      <th>2</th>\n",
       "      <td>3</td>\n",
       "      <td>Right</td>\n",
       "      <td>Endocrine system\\nNervous system\\nRespiratory ...</td>\n",
       "      <td>Pancreas weakness\\nInsulin resistance\\nNeurolo...</td>\n",
       "      <td>The body displays hormonal imbalances, particu...</td>\n",
       "      <td>Balance blood sugar with diet, herbs (cinnamon...</td>\n",
       "    </tr>\n",
       "    <tr>\n",
       "      <th>3</th>\n",
       "      <td>4</td>\n",
       "      <td>Right</td>\n",
       "      <td>Endocrine System\\nCardihjovascular system\\nDig...</td>\n",
       "      <td>Adrenal exhustion\\nBlood Circulation problem  ...</td>\n",
       "      <td>A cholesterol ring suggests long-term cardiova...</td>\n",
       "      <td>Take omega-3s for heart health, vitamin C and ...</td>\n",
       "    </tr>\n",
       "    <tr>\n",
       "      <th>4</th>\n",
       "      <td>5</td>\n",
       "      <td>Right</td>\n",
       "      <td>Circulatory System\\nEndocrine System\\nNervous ...</td>\n",
       "      <td>Heart\\nOvaries / Hormonal Balance Vitality\\n</td>\n",
       "      <td>Signs of stress on the heart, possibly from em...</td>\n",
       "      <td>Calm the nervous system with magnesium and dee...</td>\n",
       "    </tr>\n",
       "  </tbody>\n",
       "</table>\n",
       "</div>"
      ],
      "text/plain": [
       "   image_id   side                                      main_category  \\\n",
       "0         1  Right  Cardiovascular system\\nNervous system\\nEndocri...   \n",
       "1         2   Left                 Nervous system\\nCirculatory system   \n",
       "2         3  Right  Endocrine system\\nNervous system\\nRespiratory ...   \n",
       "3         4  Right  Endocrine System\\nCardihjovascular system\\nDig...   \n",
       "4         5  Right  Circulatory System\\nEndocrine System\\nNervous ...   \n",
       "\n",
       "                                        sub_category  \\\n",
       "0       Arteriosclerosis\\nAnxiety\\nPancreas weakness   \n",
       "1  Emotional stress \\nAnxiety\\nVein and lymph con...   \n",
       "2  Pancreas weakness\\nInsulin resistance\\nNeurolo...   \n",
       "3  Adrenal exhustion\\nBlood Circulation problem  ...   \n",
       "4       Heart\\nOvaries / Hormonal Balance Vitality\\n   \n",
       "\n",
       "                                            analysis  \\\n",
       "0  Presence of a stress ring indicates anxiety. P...   \n",
       "1  The presence of radial furrows and a stress ri...   \n",
       "2  The body displays hormonal imbalances, particu...   \n",
       "3  A cholesterol ring suggests long-term cardiova...   \n",
       "4  Signs of stress on the heart, possibly from em...   \n",
       "\n",
       "                              overall_recommendation  \n",
       "0  Support nerves with magnesium and calming herb...  \n",
       "1  Reduce stress through mindfulness, exercise, a...  \n",
       "2  Balance blood sugar with diet, herbs (cinnamon...  \n",
       "3  Take omega-3s for heart health, vitamin C and ...  \n",
       "4  Calm the nervous system with magnesium and dee...  "
      ]
     },
     "execution_count": 12,
     "metadata": {},
     "output_type": "execute_result"
    }
   ],
   "source": [
    "df.head()"
   ]
  },
  {
   "cell_type": "code",
   "execution_count": 13,
   "id": "aeea232a",
   "metadata": {},
   "outputs": [
    {
     "name": "stdout",
     "output_type": "stream",
     "text": [
      "\n",
      "🧾 Unique values from DataFrame column to match:\n",
      "[ 1  2  3  4  5  6  7  8  9 10 11 12 13 14 15 16 17 18 19 20]\n"
     ]
    }
   ],
   "source": [
    "# Assuming there’s a column like 'ID' or 'image_id' in the Excel\n",
    "print(\"\\n🧾 Unique values from DataFrame column to match:\")\n",
    "print(df['image_id'].unique())  # Replace 'image_id' with actual column name if different"
   ]
  },
  {
   "cell_type": "markdown",
   "id": "e3c25cbb",
   "metadata": {},
   "source": [
    "### Keeping only relavent columns for now "
   ]
  },
  {
   "cell_type": "code",
   "execution_count": 14,
   "id": "90fad770",
   "metadata": {},
   "outputs": [],
   "source": [
    "df = df[['image_id', 'sub_category', 'main_category', 'side']]"
   ]
  },
  {
   "cell_type": "code",
   "execution_count": 15,
   "id": "61138bc7",
   "metadata": {},
   "outputs": [
    {
     "data": {
      "text/html": [
       "<div>\n",
       "<style scoped>\n",
       "    .dataframe tbody tr th:only-of-type {\n",
       "        vertical-align: middle;\n",
       "    }\n",
       "\n",
       "    .dataframe tbody tr th {\n",
       "        vertical-align: top;\n",
       "    }\n",
       "\n",
       "    .dataframe thead th {\n",
       "        text-align: right;\n",
       "    }\n",
       "</style>\n",
       "<table border=\"1\" class=\"dataframe\">\n",
       "  <thead>\n",
       "    <tr style=\"text-align: right;\">\n",
       "      <th></th>\n",
       "      <th>image_id</th>\n",
       "      <th>sub_category</th>\n",
       "      <th>main_category</th>\n",
       "      <th>side</th>\n",
       "    </tr>\n",
       "  </thead>\n",
       "  <tbody>\n",
       "    <tr>\n",
       "      <th>0</th>\n",
       "      <td>1</td>\n",
       "      <td>Arteriosclerosis\\nAnxiety\\nPancreas weakness</td>\n",
       "      <td>Cardiovascular system\\nNervous system\\nEndocri...</td>\n",
       "      <td>Right</td>\n",
       "    </tr>\n",
       "    <tr>\n",
       "      <th>1</th>\n",
       "      <td>2</td>\n",
       "      <td>Emotional stress \\nAnxiety\\nVein and lymph con...</td>\n",
       "      <td>Nervous system\\nCirculatory system</td>\n",
       "      <td>Left</td>\n",
       "    </tr>\n",
       "    <tr>\n",
       "      <th>2</th>\n",
       "      <td>3</td>\n",
       "      <td>Pancreas weakness\\nInsulin resistance\\nNeurolo...</td>\n",
       "      <td>Endocrine system\\nNervous system\\nRespiratory ...</td>\n",
       "      <td>Right</td>\n",
       "    </tr>\n",
       "    <tr>\n",
       "      <th>3</th>\n",
       "      <td>4</td>\n",
       "      <td>Adrenal exhustion\\nBlood Circulation problem  ...</td>\n",
       "      <td>Endocrine System\\nCardihjovascular system\\nDig...</td>\n",
       "      <td>Right</td>\n",
       "    </tr>\n",
       "    <tr>\n",
       "      <th>4</th>\n",
       "      <td>5</td>\n",
       "      <td>Heart\\nOvaries / Hormonal Balance Vitality\\n</td>\n",
       "      <td>Circulatory System\\nEndocrine System\\nNervous ...</td>\n",
       "      <td>Right</td>\n",
       "    </tr>\n",
       "  </tbody>\n",
       "</table>\n",
       "</div>"
      ],
      "text/plain": [
       "   image_id                                       sub_category  \\\n",
       "0         1       Arteriosclerosis\\nAnxiety\\nPancreas weakness   \n",
       "1         2  Emotional stress \\nAnxiety\\nVein and lymph con...   \n",
       "2         3  Pancreas weakness\\nInsulin resistance\\nNeurolo...   \n",
       "3         4  Adrenal exhustion\\nBlood Circulation problem  ...   \n",
       "4         5       Heart\\nOvaries / Hormonal Balance Vitality\\n   \n",
       "\n",
       "                                       main_category   side  \n",
       "0  Cardiovascular system\\nNervous system\\nEndocri...  Right  \n",
       "1                 Nervous system\\nCirculatory system   Left  \n",
       "2  Endocrine system\\nNervous system\\nRespiratory ...  Right  \n",
       "3  Endocrine System\\nCardihjovascular system\\nDig...  Right  \n",
       "4  Circulatory System\\nEndocrine System\\nNervous ...  Right  "
      ]
     },
     "execution_count": 15,
     "metadata": {},
     "output_type": "execute_result"
    }
   ],
   "source": [
    "df.head()"
   ]
  },
  {
   "cell_type": "markdown",
   "id": "5dc7ee50",
   "metadata": {},
   "source": [
    "### Labeling"
   ]
  },
  {
   "cell_type": "code",
   "execution_count": 16,
   "id": "baa9248b",
   "metadata": {},
   "outputs": [
    {
     "data": {
      "text/plain": [
       "['Cardiovascular system\\nNervous system\\nEndocrine system',\n",
       " 'Nervous system\\nCirculatory system',\n",
       " 'Endocrine system\\nNervous system\\nRespiratory system',\n",
       " 'Endocrine System\\nCardihjovascular system\\nDigestive System',\n",
       " 'Circulatory System\\nEndocrine System\\nNervous System',\n",
       " 'Digestive System\\nCirculatory System\\nMusculoskeletal system',\n",
       " 'Circulatory System\\nDigestive System\\nEndocrine/Elimination',\n",
       " 'Endocrine system\\nDigestive system\\nNervous System',\n",
       " 'Nervous System\\nEndocrine System\\nMusculoskeletal system',\n",
       " 'Musculoskeletal System\\nDigestive System\\nReproductive System',\n",
       " 'Respiratory / Lymphatic System\\nDigestive System\\nCirculatory System',\n",
       " 'Digestive System\\nImmune / Lymphatic System\\nNervous System',\n",
       " 'Circulatory system\\nLymphatic / Immune system\\nUrinary system',\n",
       " 'Digestive system\\nEndocrine system\\nMusculoskeletal system',\n",
       " 'Nervous  system\\nDigestive system\\nNervous/Endocrine system',\n",
       " 'Nervous system\\nDigestive system\\nUrinary system',\n",
       " 'Endocrine system\\nRespiratory system\\nNervous system',\n",
       " 'Circulatory & Lymphatic system\\nRespiratory system\\nNervous  system',\n",
       " 'Nervous system\\nCirculatory  system\\nEndocrine & Reproductive system',\n",
       " 'Vitality zone\\nMusculoskeletal system\\nEndocrine / Reproductive system']"
      ]
     },
     "execution_count": 16,
     "metadata": {},
     "output_type": "execute_result"
    }
   ],
   "source": [
    "[i for i in df['main_category']]"
   ]
  },
  {
   "cell_type": "code",
   "execution_count": 17,
   "id": "0a6fe3fd",
   "metadata": {},
   "outputs": [],
   "source": [
    "\n",
    "import re\n",
    "\n",
    "def clean_main_category_text(text):\n",
    "    # 1. Split original string on newlines first\n",
    "    raw_labels = str(text).split('\\n')\n",
    "    final_labels = []\n",
    "\n",
    "    for label in raw_labels:\n",
    "        label = label.lower().strip()\n",
    "\n",
    "        # 2. Split compound labels using /, &, or \"and\" (word boundary)\n",
    "        # This regex splits on all 3 connectors\n",
    "        parts = re.split(r'\\s*(?:and|/|&)\\s*', label)\n",
    "\n",
    "        for part in parts:\n",
    "            part = part.strip()\n",
    "            if not part:\n",
    "                continue\n",
    "\n",
    "            # 3. If it doesn’t already contain “system”, append it\n",
    "            if not part.endswith(\"system\"):\n",
    "                part += \" system\"\n",
    "\n",
    "            # 4. Clean extra spaces\n",
    "            part = re.sub(r'\\s+', '_', part)\n",
    "\n",
    "            final_labels.append(part)\n",
    "\n",
    "    return list(set(final_labels))  # remove duplicates\n",
    "\n",
    "\n",
    "df['main_category'] = df['main_category'].apply(clean_main_category_text)\n"
   ]
  },
  {
   "cell_type": "code",
   "execution_count": 18,
   "id": "a6e12466",
   "metadata": {},
   "outputs": [
    {
     "name": "stdout",
     "output_type": "stream",
     "text": [
      "🧾 main_category label counts:\n",
      "nervous_system                      → 12\n",
      "endocrine_system                    → 12\n",
      "digestive_system                    → 10\n",
      "circulatory_system                  → 8\n",
      "musculoskeletal_system              → 5\n",
      "respiratory_system                  → 4\n",
      "lymphatic_system                    → 4\n",
      "reproductive_system                 → 3\n",
      "immune_system                       → 2\n",
      "urinary_system                      → 2\n",
      "cardiovascular_system               → 1\n",
      "cardihjovascular_system             → 1\n",
      "elimination_system                  → 1\n",
      "vitality_zone_system                → 1\n",
      "\n",
      "✅ Total unique labels: 14\n"
     ]
    }
   ],
   "source": [
    "# Flatten the list\n",
    "all_main_labels = [label for sublist in df['main_category'] for label in sublist]\n",
    "\n",
    "# Count each label\n",
    "main_label_counts = Counter(all_main_labels)\n",
    "\n",
    "# Sort by frequency (optional)\n",
    "main_label_counts = dict(sorted(main_label_counts.items(), key=lambda x: x[1], reverse=True))\n",
    "\n",
    "# Display\n",
    "print(\"🧾 main_category label counts:\")\n",
    "for label, count in main_label_counts.items():\n",
    "    print(f\"{label:35} → {count}\")\n",
    "\n",
    "print(\"\\n✅ Total unique labels:\", len(main_label_counts))\n"
   ]
  },
  {
   "cell_type": "code",
   "execution_count": 19,
   "id": "0a1e3883",
   "metadata": {},
   "outputs": [],
   "source": [
    "# Step 1: Define the mapping dictionary\n",
    "label_fix_map = {\n",
    "    'cardihjovascular_system': 'cardiovascular_system',\n",
    "    'elimination_system': 'endocrine_system',\n",
    "    'vitality_zone_system': 'vitality_system'\n",
    "}\n",
    "\n",
    "# Step 2: Apply it to each list of labels\n",
    "def apply_label_fix(label_list):\n",
    "    return [label_fix_map.get(label, label) for label in label_list]\n",
    "\n",
    "df['main_category'] = df['main_category'].apply(apply_label_fix)\n"
   ]
  },
  {
   "cell_type": "code",
   "execution_count": 20,
   "id": "a641d176",
   "metadata": {},
   "outputs": [
    {
     "name": "stdout",
     "output_type": "stream",
     "text": [
      "\n",
      "📊 main_category label counts after mapping:\n",
      "endocrine_system                    → 13\n",
      "nervous_system                      → 12\n",
      "digestive_system                    → 10\n",
      "circulatory_system                  → 8\n",
      "musculoskeletal_system              → 5\n",
      "respiratory_system                  → 4\n",
      "lymphatic_system                    → 4\n",
      "reproductive_system                 → 3\n",
      "cardiovascular_system               → 2\n",
      "immune_system                       → 2\n",
      "urinary_system                      → 2\n",
      "vitality_system                     → 1\n",
      "\n",
      "✅ Total unique labels after fix: 12\n"
     ]
    }
   ],
   "source": [
    "from collections import Counter\n",
    "\n",
    "all_main_labels = [label for sublist in df['main_category'] for label in sublist]\n",
    "main_label_counts = dict(Counter(all_main_labels))\n",
    "main_label_counts = dict(sorted(main_label_counts.items(), key=lambda x: x[1], reverse=True))\n",
    "\n",
    "print(\"\\n📊 main_category label counts after mapping:\")\n",
    "for label, count in main_label_counts.items():\n",
    "    print(f\"{label:35} → {count}\")\n",
    "\n",
    "print(\"\\n✅ Total unique labels after fix:\", len(main_label_counts))\n"
   ]
  },
  {
   "cell_type": "code",
   "execution_count": null,
   "id": "b26e344b",
   "metadata": {},
   "outputs": [],
   "source": []
  }
 ],
 "metadata": {
  "kernelspec": {
   "display_name": ".venv",
   "language": "python",
   "name": "python3"
  },
  "language_info": {
   "codemirror_mode": {
    "name": "ipython",
    "version": 3
   },
   "file_extension": ".py",
   "mimetype": "text/x-python",
   "name": "python",
   "nbconvert_exporter": "python",
   "pygments_lexer": "ipython3",
   "version": "3.12.4"
  }
 },
 "nbformat": 4,
 "nbformat_minor": 5
}
